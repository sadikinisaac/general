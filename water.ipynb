{
  "nbformat": 4,
  "nbformat_minor": 0,
  "metadata": {
    "colab": {
      "name": "water.ipynb",
      "provenance": [],
      "authorship_tag": "ABX9TyOUii/FJSVVAK0OLiJT5SzN",
      "include_colab_link": true
    },
    "kernelspec": {
      "name": "python3",
      "display_name": "Python 3"
    }
  },
  "cells": [
    {
      "cell_type": "markdown",
      "metadata": {
        "id": "view-in-github",
        "colab_type": "text"
      },
      "source": [
        "<a href=\"https://colab.research.google.com/github/sadikinisaac/general/blob/master/water.ipynb\" target=\"_parent\"><img src=\"https://colab.research.google.com/assets/colab-badge.svg\" alt=\"Open In Colab\"/></a>"
      ]
    },
    {
      "cell_type": "code",
      "metadata": {
        "id": "4YfJZJ1xy35f",
        "colab_type": "code",
        "colab": {}
      },
      "source": [
        "# Beachwatch Logistic Regressions"
      ],
      "execution_count": 0,
      "outputs": []
    },
    {
      "cell_type": "code",
      "metadata": {
        "id": "YUAQC7rCzex3",
        "colab_type": "code",
        "colab": {
          "base_uri": "https://localhost:8080/",
          "height": 1000
        },
        "outputId": "6f748ca0-3359-4458-dfab-36452cc6320e"
      },
      "source": [
        "!pip install metapack"
      ],
      "execution_count": 4,
      "outputs": [
        {
          "output_type": "stream",
          "text": [
            "Collecting metapack\n",
            "\u001b[?25l  Downloading https://files.pythonhosted.org/packages/60/b7/aab292823ba627e46a8fd880bc24553a5234917c5128d15c3bfbefbe5ab3/metapack-0.9.19.tar.gz (260kB)\n",
            "\u001b[K     |████████████████████████████████| 266kB 2.8MB/s \n",
            "\u001b[?25hCollecting metatab\n",
            "\u001b[?25l  Downloading https://files.pythonhosted.org/packages/32/d8/e28ae6691c4336ea92a2d1b64d9b62846c7e6d1ee7fc175d6158f05fa107/metatab-0.8.1.tar.gz (110kB)\n",
            "\u001b[K     |████████████████████████████████| 112kB 13.4MB/s \n",
            "\u001b[?25hCollecting metatabdecl\n",
            "\u001b[?25l  Downloading https://files.pythonhosted.org/packages/91/e1/9e8b96d2d9e647079036dc115352425f6fefb4c5941d2f97202600f46155/metatabdecl-1.9.tar.gz (42kB)\n",
            "\u001b[K     |████████████████████████████████| 51kB 6.4MB/s \n",
            "\u001b[?25hCollecting rowgenerators\n",
            "\u001b[?25l  Downloading https://files.pythonhosted.org/packages/9e/81/417a8561948e000a49f84adf7b4bf6a3015e6f209d6ad1972cfd53ed0e86/rowgenerators-0.9.6.tar.gz (19.6MB)\n",
            "\u001b[K     |████████████████████████████████| 19.6MB 50.3MB/s \n",
            "\u001b[?25hCollecting geoid\n",
            "  Downloading https://files.pythonhosted.org/packages/9e/68/bcf37c92c347a0fcd5c98b6ee607686cf2cc82fd7931d66b8c80cda39e85/geoid-1.1.0.tar.gz\n",
            "Collecting tableintuit\n",
            "\u001b[?25l  Downloading https://files.pythonhosted.org/packages/8d/2e/9529872a0262eb625d8618ca7cb2a2efa3218f142ec4ebda3cdf0d091c23/tableintuit-0.1.6.tar.gz (239kB)\n",
            "\u001b[K     |████████████████████████████████| 245kB 47.1MB/s \n",
            "\u001b[?25hRequirement already satisfied: markdown in /usr/local/lib/python3.6/dist-packages (from metapack) (3.1.1)\n",
            "Collecting nameparser\n",
            "  Downloading https://files.pythonhosted.org/packages/82/86/7b47a194dd7e68248322f3f7efe629779667edf4034e0ac8299b46f97906/nameparser-1.0.5-py2.py3-none-any.whl\n",
            "Collecting pybtex\n",
            "\u001b[?25l  Downloading https://files.pythonhosted.org/packages/94/2a/11039970561f1bbc74fbaca89b59c26b398a0a70bba8caad553ac779b4f7/pybtex-0.22.2-py2.py3-none-any.whl (279kB)\n",
            "\u001b[K     |████████████████████████████████| 286kB 54.8MB/s \n",
            "\u001b[?25hRequirement already satisfied: jinja2 in /usr/local/lib/python3.6/dist-packages (from metapack) (2.10.3)\n",
            "Collecting terminaltables\n",
            "  Downloading https://files.pythonhosted.org/packages/9b/c4/4a21174f32f8a7e1104798c445dacdc1d4df86f2f26722767034e4de4bff/terminaltables-3.1.0.tar.gz\n",
            "Requirement already satisfied: boto3 in /usr/local/lib/python3.6/dist-packages (from metapack) (1.10.47)\n",
            "Requirement already satisfied: bs4 in /usr/local/lib/python3.6/dist-packages (from metapack) (0.0.1)\n",
            "Collecting unicodecsv\n",
            "  Downloading https://files.pythonhosted.org/packages/6f/a4/691ab63b17505a26096608cc309960b5a6bdf39e4ba1a793d5f9b1a53270/unicodecsv-0.14.1.tar.gz\n",
            "Requirement already satisfied: pyyaml in /usr/local/lib/python3.6/dist-packages (from metapack) (3.13)\n",
            "Collecting pyproj\n",
            "\u001b[?25l  Downloading https://files.pythonhosted.org/packages/d6/70/eedc98cd52b86de24a1589c762612a98bea26cde649ffdd60c1db396cce8/pyproj-2.4.2.post1-cp36-cp36m-manylinux2010_x86_64.whl (10.1MB)\n",
            "\u001b[K     |████████████████████████████████| 10.1MB 49.7MB/s \n",
            "\u001b[?25hRequirement already satisfied: python-dateutil in /usr/local/lib/python3.6/dist-packages (from rowgenerators->metapack) (2.6.1)\n",
            "Requirement already satisfied: boto in /usr/local/lib/python3.6/dist-packages (from rowgenerators->metapack) (2.49.0)\n",
            "Collecting codegen\n",
            "  Downloading https://files.pythonhosted.org/packages/7e/9c/91b9b9c0c67aec57aabcf7c456baca687cdafd3fb29c6195574685b6ca36/codegen-1.0.tar.gz\n",
            "Requirement already satisfied: decorator in /usr/local/lib/python3.6/dist-packages (from rowgenerators->metapack) (4.4.1)\n",
            "Requirement already satisfied: filelock in /usr/local/lib/python3.6/dist-packages (from rowgenerators->metapack) (3.0.12)\n",
            "Collecting fs>=2\n",
            "\u001b[?25l  Downloading https://files.pythonhosted.org/packages/44/b6/9a5d4edd6e933bebfd15c64525ea8c787fc62fcbb0d167040771600f77eb/fs-2.4.11-py2.py3-none-any.whl (127kB)\n",
            "\u001b[K     |████████████████████████████████| 133kB 54.6MB/s \n",
            "\u001b[?25hCollecting livestats\n",
            "  Downloading https://files.pythonhosted.org/packages/0a/93/28777f9291846f6981a3d44132d9a45bae6180c251675cccfe60d58d6c72/LiveStats-1.0.tar.gz\n",
            "Collecting meta\n",
            "\u001b[?25l  Downloading https://files.pythonhosted.org/packages/78/4e/bf6414dd628664eee7d03831f36fe9ffd43708c36c8bd43ae56ebe7cd69d/meta-1.0.2.tar.gz (49kB)\n",
            "\u001b[K     |████████████████████████████████| 51kB 7.2MB/s \n",
            "\u001b[?25hCollecting petl\n",
            "\u001b[?25l  Downloading https://files.pythonhosted.org/packages/7b/1d/78f7e1b997e90c3fb9e5fb1310f39bdb8ba152543daa68564e1c947e8fb1/petl-1.3.0.tar.gz (216kB)\n",
            "\u001b[K     |████████████████████████████████| 225kB 51.7MB/s \n",
            "\u001b[?25h  Installing build dependencies ... \u001b[?25l\u001b[?25hdone\n",
            "  Getting requirements to build wheel ... \u001b[?25l\u001b[?25hdone\n",
            "    Preparing wheel metadata ... \u001b[?25l\u001b[?25hdone\n",
            "Requirement already satisfied: requests in /usr/local/lib/python3.6/dist-packages (from rowgenerators->metapack) (2.21.0)\n",
            "Requirement already satisfied: tabulate in /usr/local/lib/python3.6/dist-packages (from rowgenerators->metapack) (0.8.6)\n",
            "Requirement already satisfied: xlrd in /usr/local/lib/python3.6/dist-packages (from rowgenerators->metapack) (1.1.0)\n",
            "Collecting aniso8601\n",
            "\u001b[?25l  Downloading https://files.pythonhosted.org/packages/eb/e4/787e104b58eadc1a710738d4e418d7e599e4e778e52cb8e5d5ef6ddd5833/aniso8601-8.0.0-py2.py3-none-any.whl (43kB)\n",
            "\u001b[K     |████████████████████████████████| 51kB 7.2MB/s \n",
            "\u001b[?25hCollecting geopandas\n",
            "\u001b[?25l  Downloading https://files.pythonhosted.org/packages/5b/0c/e6c99e561b03482220f00443f610ccf4dce9b50f4b1093d735f93c6fc8c6/geopandas-0.6.2-py2.py3-none-any.whl (919kB)\n",
            "\u001b[K     |████████████████████████████████| 921kB 45.5MB/s \n",
            "\u001b[?25hRequirement already satisfied: h5py in /usr/local/lib/python3.6/dist-packages (from rowgenerators->metapack) (2.8.0)\n",
            "Requirement already satisfied: wrapt in /usr/local/lib/python3.6/dist-packages (from rowgenerators->metapack) (1.11.2)\n",
            "Requirement already satisfied: six in /usr/local/lib/python3.6/dist-packages (from geoid->metapack) (1.12.0)\n",
            "Requirement already satisfied: setuptools>=36 in /usr/local/lib/python3.6/dist-packages (from markdown->metapack) (42.0.2)\n",
            "Collecting latexcodec>=1.0.4\n",
            "  Downloading https://files.pythonhosted.org/packages/8e/4f/6e7353dce0cfde419995117705035c4a0433a08aa7c49219ee589767766a/latexcodec-2.0.0-py2.py3-none-any.whl\n",
            "Requirement already satisfied: MarkupSafe>=0.23 in /usr/local/lib/python3.6/dist-packages (from jinja2->metapack) (1.1.1)\n",
            "Requirement already satisfied: botocore<1.14.0,>=1.13.47 in /usr/local/lib/python3.6/dist-packages (from boto3->metapack) (1.13.47)\n",
            "Requirement already satisfied: jmespath<1.0.0,>=0.7.1 in /usr/local/lib/python3.6/dist-packages (from boto3->metapack) (0.9.4)\n",
            "Requirement already satisfied: s3transfer<0.3.0,>=0.2.0 in /usr/local/lib/python3.6/dist-packages (from boto3->metapack) (0.2.1)\n",
            "Requirement already satisfied: beautifulsoup4 in /usr/local/lib/python3.6/dist-packages (from bs4->metapack) (4.6.3)\n",
            "Requirement already satisfied: pytz in /usr/local/lib/python3.6/dist-packages (from fs>=2->rowgenerators->metapack) (2018.9)\n",
            "Collecting appdirs~=1.4.3\n",
            "  Downloading https://files.pythonhosted.org/packages/56/eb/810e700ed1349edde4cbdc1b2a21e28cdf115f9faf263f6bbf8447c1abf3/appdirs-1.4.3-py2.py3-none-any.whl\n",
            "Requirement already satisfied: urllib3<1.25,>=1.21.1 in /usr/local/lib/python3.6/dist-packages (from requests->rowgenerators->metapack) (1.24.3)\n",
            "Requirement already satisfied: certifi>=2017.4.17 in /usr/local/lib/python3.6/dist-packages (from requests->rowgenerators->metapack) (2019.11.28)\n",
            "Requirement already satisfied: chardet<3.1.0,>=3.0.2 in /usr/local/lib/python3.6/dist-packages (from requests->rowgenerators->metapack) (3.0.4)\n",
            "Requirement already satisfied: idna<2.9,>=2.5 in /usr/local/lib/python3.6/dist-packages (from requests->rowgenerators->metapack) (2.8)\n",
            "Requirement already satisfied: pandas>=0.23.0 in /usr/local/lib/python3.6/dist-packages (from geopandas->rowgenerators->metapack) (0.25.3)\n",
            "Collecting fiona\n",
            "\u001b[?25l  Downloading https://files.pythonhosted.org/packages/50/f7/9899f8a9a2e38601472fe1079ce5088f58833221c8b8507d8b5eafd5404a/Fiona-1.8.13-cp36-cp36m-manylinux1_x86_64.whl (11.8MB)\n",
            "\u001b[K     |████████████████████████████████| 11.8MB 41.9MB/s \n",
            "\u001b[?25hRequirement already satisfied: shapely in /usr/local/lib/python3.6/dist-packages (from geopandas->rowgenerators->metapack) (1.6.4.post2)\n",
            "Requirement already satisfied: numpy>=1.7 in /usr/local/lib/python3.6/dist-packages (from h5py->rowgenerators->metapack) (1.17.5)\n",
            "Requirement already satisfied: docutils<0.16,>=0.10 in /usr/local/lib/python3.6/dist-packages (from botocore<1.14.0,>=1.13.47->boto3->metapack) (0.15.2)\n",
            "Collecting click-plugins>=1.0\n",
            "  Downloading https://files.pythonhosted.org/packages/e9/da/824b92d9942f4e472702488857914bdd50f73021efea15b4cad9aca8ecef/click_plugins-1.1.1-py2.py3-none-any.whl\n",
            "Collecting cligj>=0.5\n",
            "  Downloading https://files.pythonhosted.org/packages/e4/be/30a58b4b0733850280d01f8bd132591b4668ed5c7046761098d665ac2174/cligj-0.5.0-py3-none-any.whl\n",
            "Collecting munch\n",
            "  Downloading https://files.pythonhosted.org/packages/cc/ab/85d8da5c9a45e072301beb37ad7f833cd344e04c817d97e0cc75681d248f/munch-2.5.0-py2.py3-none-any.whl\n",
            "Requirement already satisfied: attrs>=17 in /usr/local/lib/python3.6/dist-packages (from fiona->geopandas->rowgenerators->metapack) (19.3.0)\n",
            "Requirement already satisfied: click<8,>=4.0 in /usr/local/lib/python3.6/dist-packages (from fiona->geopandas->rowgenerators->metapack) (7.0)\n",
            "Building wheels for collected packages: petl\n",
            "  Building wheel for petl (PEP 517) ... \u001b[?25l\u001b[?25hdone\n",
            "  Created wheel for petl: filename=petl-1.3.0-cp36-none-any.whl size=192852 sha256=22b7a985c65867f935f10ddc586a9574a1ab4058658854cdc419ec6afa48a6d3\n",
            "  Stored in directory: /root/.cache/pip/wheels/fa/8b/4d/803080d223a5766cc10d49a3ec0f4ea9ca4511ce8db4a178ac\n",
            "Successfully built petl\n",
            "Building wheels for collected packages: metapack, metatab, metatabdecl, rowgenerators, geoid, tableintuit, terminaltables, unicodecsv, codegen, livestats, meta\n",
            "  Building wheel for metapack (setup.py) ... \u001b[?25l\u001b[?25hdone\n",
            "  Created wheel for metapack: filename=metapack-0.9.19-py2.py3-none-any.whl size=66066 sha256=b89498b2bfe7873c5c6a78c3e03a169b3ddc084636145fa776ac6e18ff44c909\n",
            "  Stored in directory: /root/.cache/pip/wheels/eb/f1/6d/952ad76e7f1210f7893e34430d6d47b09e7efb48230093e412\n",
            "  Building wheel for metatab (setup.py) ... \u001b[?25l\u001b[?25hdone\n",
            "  Created wheel for metatab: filename=metatab-0.8.1-cp36-none-any.whl size=67378 sha256=3ddf1d5253abfa23fd72d1b6ad4c20f60f024e8bbecf38caf5a09a64323edd91\n",
            "  Stored in directory: /root/.cache/pip/wheels/76/71/3d/4afac09014235f9bd2d7e86692db5e0cc12f5a66ddbb1f0477\n",
            "  Building wheel for metatabdecl (setup.py) ... \u001b[?25l\u001b[?25hdone\n",
            "  Created wheel for metatabdecl: filename=metatabdecl-1.9-cp36-none-any.whl size=30189 sha256=0deaa33ae122c57499f7c7cde975454c9f9dc946c72bb3198b6cb2b5d8804db3\n",
            "  Stored in directory: /root/.cache/pip/wheels/d9/d3/04/83ff503f15bfa6c1d40d31401636603993e533884bc1d6dfcb\n",
            "  Building wheel for rowgenerators (setup.py) ... \u001b[?25l\u001b[?25hdone\n",
            "  Created wheel for rowgenerators: filename=rowgenerators-0.9.6-cp36-none-any.whl size=140097 sha256=59d5011ba05dbe25baee2656ddab7c4bf408e6f0f1bd09f5007acbd8ecc5d213\n",
            "  Stored in directory: /root/.cache/pip/wheels/13/6b/aa/fe374e7e3f32da6ab3f653d7c5c7551cec3c9105ca9fbcf6bb\n",
            "  Building wheel for geoid (setup.py) ... \u001b[?25l\u001b[?25hdone\n",
            "  Created wheel for geoid: filename=geoid-1.1.0-cp36-none-any.whl size=39873 sha256=715f23db47353a47a878a55ca28fe6980ec58b1fe85540591d5af3b453635629\n",
            "  Stored in directory: /root/.cache/pip/wheels/f8/50/44/84e52dbdb270183ceae35c8638873ed8b26dfba92cf6be7fcc\n",
            "  Building wheel for tableintuit (setup.py) ... \u001b[?25l\u001b[?25hdone\n",
            "  Created wheel for tableintuit: filename=tableintuit-0.1.6-cp36-none-any.whl size=19739 sha256=cda2e0b79b6224f4883c1fc65d1551c572f3f6b90ea0f07b69fc511cfed9dd49\n",
            "  Stored in directory: /root/.cache/pip/wheels/43/7a/c9/9c66da3a1ac15c784ee42e7cc2314856034a7e97365e2535a7\n",
            "  Building wheel for terminaltables (setup.py) ... \u001b[?25l\u001b[?25hdone\n",
            "  Created wheel for terminaltables: filename=terminaltables-3.1.0-cp36-none-any.whl size=15354 sha256=c98f0713c5516b2b792ef8ef42f4b9a22b599eb8b4b0e2a04f6cfcb66083fba8\n",
            "  Stored in directory: /root/.cache/pip/wheels/30/6b/50/6c75775b681fb36cdfac7f19799888ef9d8813aff9e379663e\n",
            "  Building wheel for unicodecsv (setup.py) ... \u001b[?25l\u001b[?25hdone\n",
            "  Created wheel for unicodecsv: filename=unicodecsv-0.14.1-cp36-none-any.whl size=10767 sha256=87d62cc68d6b40f6f300a3f10972ecf06bc8495fa61b89428f47a8822e59f66f\n",
            "  Stored in directory: /root/.cache/pip/wheels/a6/09/e9/e800279c98a0a8c94543f3de6c8a562f60e51363ed26e71283\n",
            "  Building wheel for codegen (setup.py) ... \u001b[?25l\u001b[?25hdone\n",
            "  Created wheel for codegen: filename=codegen-1.0-cp36-none-any.whl size=4736 sha256=15132a603dd01cc81fd55670641e47813d45bccae360f1a17fea7e6d64e14745\n",
            "  Stored in directory: /root/.cache/pip/wheels/dc/76/fc/851d6c01282e0fab4f98bc048ef8815c3a2c28dff237f5cf9a\n",
            "  Building wheel for livestats (setup.py) ... \u001b[?25l\u001b[?25hdone\n",
            "  Created wheel for livestats: filename=LiveStats-1.0-cp36-none-any.whl size=3629 sha256=fe3c4305274e5d6d6d367f05d1918c2cf604412950694751235fb79646accf45\n",
            "  Stored in directory: /root/.cache/pip/wheels/8a/51/97/470b9ceb7258359748eb17f548acf004db5bbd43408036b117\n",
            "  Building wheel for meta (setup.py) ... \u001b[?25l\u001b[?25hdone\n",
            "  Created wheel for meta: filename=meta-1.0.2-cp36-none-any.whl size=59243 sha256=d2cb963e956ce1b43dcc179bfffa8af2abb8666bd9017742b46ea60de721c825\n",
            "  Stored in directory: /root/.cache/pip/wheels/c3/ae/57/3ab58d0d76a5828f892f3099bb4b55264395adde36c4f3e790\n",
            "Successfully built metapack metatab metatabdecl rowgenerators geoid tableintuit terminaltables unicodecsv codegen livestats meta\n",
            "Installing collected packages: metatabdecl, pyproj, codegen, appdirs, fs, geoid, livestats, meta, petl, aniso8601, click-plugins, cligj, munch, fiona, geopandas, rowgenerators, metatab, tableintuit, nameparser, latexcodec, pybtex, terminaltables, unicodecsv, metapack\n",
            "Successfully installed aniso8601-8.0.0 appdirs-1.4.3 click-plugins-1.1.1 cligj-0.5.0 codegen-1.0 fiona-1.8.13 fs-2.4.11 geoid-1.1.0 geopandas-0.6.2 latexcodec-2.0.0 livestats-1.0 meta-1.0.2 metapack-0.9.19 metatab-0.8.1 metatabdecl-1.9 munch-2.5.0 nameparser-1.0.5 petl-1.3.0 pybtex-0.22.2 pyproj-2.4.2.post1 rowgenerators-0.9.6 tableintuit-0.1.6 terminaltables-3.1.0 unicodecsv-0.14.1\n"
          ],
          "name": "stdout"
        }
      ]
    },
    {
      "cell_type": "code",
      "metadata": {
        "id": "PmTChMdtzWoG",
        "colab_type": "code",
        "colab": {}
      },
      "source": [
        "import matplotlib.pyplot as plt \n",
        "import metapack as mp\n",
        "import pandas as pd\n",
        "import numpy as np\n",
        "import seaborn as sns\n",
        "sns.set(color_codes=True)\n",
        "%matplotlib inline"
      ],
      "execution_count": 0,
      "outputs": []
    },
    {
      "cell_type": "code",
      "metadata": {
        "id": "vf6R_wp9zXAw",
        "colab_type": "code",
        "colab": {
          "base_uri": "https://localhost:8080/",
          "height": 309
        },
        "outputId": "eaadee63-ca49-4137-9c3b-2eb8e1d5e51a"
      },
      "source": [
        "import metapack as mp\n",
        "pkg = mp.open_package('http://library.metatab.org/sandiegodata.org-beachwatch-4.zip')\n",
        "beachwatch =    pkg.resource('beachwatch').read_csv(parse_dates=True)\n",
        "measure_codes = pkg.resource('measure_codes').read_csv(parse_dates=True)\n",
        "stations =      pkg.resource('stations').read_csv(parse_dates=True)\n",
        "\n",
        "beachwatch.head()"
      ],
      "execution_count": 6,
      "outputs": [
        {
          "output_type": "execute_result",
          "data": {
            "text/html": [
              "<div>\n",
              "<style scoped>\n",
              "    .dataframe tbody tr th:only-of-type {\n",
              "        vertical-align: middle;\n",
              "    }\n",
              "\n",
              "    .dataframe tbody tr th {\n",
              "        vertical-align: top;\n",
              "    }\n",
              "\n",
              "    .dataframe thead th {\n",
              "        text-align: right;\n",
              "    }\n",
              "</style>\n",
              "<table border=\"1\" class=\"dataframe\">\n",
              "  <thead>\n",
              "    <tr style=\"text-align: right;\">\n",
              "      <th></th>\n",
              "      <th>stationcode</th>\n",
              "      <th>stationgroup</th>\n",
              "      <th>sampledate</th>\n",
              "      <th>collectiontime</th>\n",
              "      <th>measure_code</th>\n",
              "      <th>analyte</th>\n",
              "      <th>methodname</th>\n",
              "      <th>unit</th>\n",
              "      <th>result</th>\n",
              "      <th>result_group_count</th>\n",
              "      <th>result_group_std</th>\n",
              "      <th>result_group_mean</th>\n",
              "      <th>result_group_25pctl</th>\n",
              "      <th>result_group_median</th>\n",
              "      <th>result_group_75pctl</th>\n",
              "      <th>result_gt_median</th>\n",
              "      <th>result_gt_mean</th>\n",
              "      <th>result_lte_25pctl</th>\n",
              "      <th>result_gte_75pctl</th>\n",
              "      <th>lresult</th>\n",
              "      <th>lresult_group_std</th>\n",
              "      <th>lresult_group_mean</th>\n",
              "      <th>lresult_group_25pctl</th>\n",
              "      <th>lresult_group_median</th>\n",
              "      <th>lresult_group_75pctl</th>\n",
              "      <th>lresult_gt_lmedian</th>\n",
              "      <th>lresult_gt_lmean</th>\n",
              "      <th>lresult_lte_25pctl</th>\n",
              "      <th>lresult_gte_75pctl</th>\n",
              "      <th>labbatch</th>\n",
              "      <th>resultqualcode</th>\n",
              "      <th>qacode</th>\n",
              "      <th>sampleagency</th>\n",
              "      <th>labagency</th>\n",
              "      <th>submittingagency</th>\n",
              "    </tr>\n",
              "  </thead>\n",
              "  <tbody>\n",
              "    <tr>\n",
              "      <th>0</th>\n",
              "      <td>EH-010</td>\n",
              "      <td>EH</td>\n",
              "      <td>1999-05-26</td>\n",
              "      <td>2020-02-01</td>\n",
              "      <td>0</td>\n",
              "      <td>Coliform, Fecal</td>\n",
              "      <td>MTF</td>\n",
              "      <td>MPN/100 mL</td>\n",
              "      <td>20.0</td>\n",
              "      <td>213</td>\n",
              "      <td>1647.469843</td>\n",
              "      <td>376.478873</td>\n",
              "      <td>20.0</td>\n",
              "      <td>20.0</td>\n",
              "      <td>20.0</td>\n",
              "      <td>0.0</td>\n",
              "      <td>0.0</td>\n",
              "      <td>0.0</td>\n",
              "      <td>1.0</td>\n",
              "      <td>2.995732</td>\n",
              "      <td>1.439884</td>\n",
              "      <td>3.633361</td>\n",
              "      <td>2.995732</td>\n",
              "      <td>2.995732</td>\n",
              "      <td>2.995732</td>\n",
              "      <td>0.0</td>\n",
              "      <td>0.0</td>\n",
              "      <td>0.0</td>\n",
              "      <td>1.0</td>\n",
              "      <td>SH-5/26/1999</td>\n",
              "      <td>&lt;</td>\n",
              "      <td>NR</td>\n",
              "      <td>SDCDEH</td>\n",
              "      <td>SDCDEH</td>\n",
              "      <td>SDCDEH</td>\n",
              "    </tr>\n",
              "    <tr>\n",
              "      <th>1</th>\n",
              "      <td>EH-010</td>\n",
              "      <td>EH</td>\n",
              "      <td>1999-10-13</td>\n",
              "      <td>2020-02-01</td>\n",
              "      <td>0</td>\n",
              "      <td>Coliform, Fecal</td>\n",
              "      <td>MTF</td>\n",
              "      <td>MPN/100 mL</td>\n",
              "      <td>0.0</td>\n",
              "      <td>213</td>\n",
              "      <td>1647.469843</td>\n",
              "      <td>376.478873</td>\n",
              "      <td>20.0</td>\n",
              "      <td>20.0</td>\n",
              "      <td>20.0</td>\n",
              "      <td>0.0</td>\n",
              "      <td>0.0</td>\n",
              "      <td>1.0</td>\n",
              "      <td>0.0</td>\n",
              "      <td>NaN</td>\n",
              "      <td>1.439884</td>\n",
              "      <td>3.633361</td>\n",
              "      <td>2.995732</td>\n",
              "      <td>2.995732</td>\n",
              "      <td>2.995732</td>\n",
              "      <td>0.0</td>\n",
              "      <td>0.0</td>\n",
              "      <td>0.0</td>\n",
              "      <td>0.0</td>\n",
              "      <td>SH-10/13/1999</td>\n",
              "      <td>=</td>\n",
              "      <td>NR</td>\n",
              "      <td>SDCDEH</td>\n",
              "      <td>SDCDEH</td>\n",
              "      <td>SDCDEH</td>\n",
              "    </tr>\n",
              "    <tr>\n",
              "      <th>2</th>\n",
              "      <td>EH-010</td>\n",
              "      <td>EH</td>\n",
              "      <td>1999-10-26</td>\n",
              "      <td>2020-02-01</td>\n",
              "      <td>0</td>\n",
              "      <td>Coliform, Fecal</td>\n",
              "      <td>MTF</td>\n",
              "      <td>MPN/100 mL</td>\n",
              "      <td>20.0</td>\n",
              "      <td>213</td>\n",
              "      <td>1647.469843</td>\n",
              "      <td>376.478873</td>\n",
              "      <td>20.0</td>\n",
              "      <td>20.0</td>\n",
              "      <td>20.0</td>\n",
              "      <td>0.0</td>\n",
              "      <td>0.0</td>\n",
              "      <td>0.0</td>\n",
              "      <td>1.0</td>\n",
              "      <td>2.995732</td>\n",
              "      <td>1.439884</td>\n",
              "      <td>3.633361</td>\n",
              "      <td>2.995732</td>\n",
              "      <td>2.995732</td>\n",
              "      <td>2.995732</td>\n",
              "      <td>0.0</td>\n",
              "      <td>0.0</td>\n",
              "      <td>0.0</td>\n",
              "      <td>1.0</td>\n",
              "      <td>SH-10/26/1999</td>\n",
              "      <td>&lt;</td>\n",
              "      <td>NR</td>\n",
              "      <td>SDCDEH</td>\n",
              "      <td>SDCDEH</td>\n",
              "      <td>SDCDEH</td>\n",
              "    </tr>\n",
              "    <tr>\n",
              "      <th>3</th>\n",
              "      <td>EH-010</td>\n",
              "      <td>EH</td>\n",
              "      <td>2000-03-21</td>\n",
              "      <td>2020-02-01</td>\n",
              "      <td>0</td>\n",
              "      <td>Coliform, Fecal</td>\n",
              "      <td>MTF</td>\n",
              "      <td>MPN/100 mL</td>\n",
              "      <td>20.0</td>\n",
              "      <td>213</td>\n",
              "      <td>1647.469843</td>\n",
              "      <td>376.478873</td>\n",
              "      <td>20.0</td>\n",
              "      <td>20.0</td>\n",
              "      <td>20.0</td>\n",
              "      <td>0.0</td>\n",
              "      <td>0.0</td>\n",
              "      <td>0.0</td>\n",
              "      <td>1.0</td>\n",
              "      <td>2.995732</td>\n",
              "      <td>1.439884</td>\n",
              "      <td>3.633361</td>\n",
              "      <td>2.995732</td>\n",
              "      <td>2.995732</td>\n",
              "      <td>2.995732</td>\n",
              "      <td>0.0</td>\n",
              "      <td>0.0</td>\n",
              "      <td>0.0</td>\n",
              "      <td>1.0</td>\n",
              "      <td>SH-3/21/2000</td>\n",
              "      <td>&lt;</td>\n",
              "      <td>NR</td>\n",
              "      <td>SDCDEH</td>\n",
              "      <td>SDCDEH</td>\n",
              "      <td>SDCDEH</td>\n",
              "    </tr>\n",
              "    <tr>\n",
              "      <th>4</th>\n",
              "      <td>EH-010</td>\n",
              "      <td>EH</td>\n",
              "      <td>2000-05-24</td>\n",
              "      <td>2020-02-01</td>\n",
              "      <td>0</td>\n",
              "      <td>Coliform, Fecal</td>\n",
              "      <td>MTF</td>\n",
              "      <td>MPN/100 mL</td>\n",
              "      <td>230.0</td>\n",
              "      <td>213</td>\n",
              "      <td>1647.469843</td>\n",
              "      <td>376.478873</td>\n",
              "      <td>20.0</td>\n",
              "      <td>20.0</td>\n",
              "      <td>20.0</td>\n",
              "      <td>1.0</td>\n",
              "      <td>0.0</td>\n",
              "      <td>0.0</td>\n",
              "      <td>1.0</td>\n",
              "      <td>5.438079</td>\n",
              "      <td>1.439884</td>\n",
              "      <td>3.633361</td>\n",
              "      <td>2.995732</td>\n",
              "      <td>2.995732</td>\n",
              "      <td>2.995732</td>\n",
              "      <td>1.0</td>\n",
              "      <td>1.0</td>\n",
              "      <td>0.0</td>\n",
              "      <td>1.0</td>\n",
              "      <td>SH-5/24/2000</td>\n",
              "      <td>=</td>\n",
              "      <td>NR</td>\n",
              "      <td>SDCDEH</td>\n",
              "      <td>SDCDEH</td>\n",
              "      <td>SDCDEH</td>\n",
              "    </tr>\n",
              "  </tbody>\n",
              "</table>\n",
              "</div>"
            ],
            "text/plain": [
              "  stationcode stationgroup sampledate  ... sampleagency  labagency submittingagency\n",
              "0      EH-010           EH 1999-05-26  ...       SDCDEH     SDCDEH           SDCDEH\n",
              "1      EH-010           EH 1999-10-13  ...       SDCDEH     SDCDEH           SDCDEH\n",
              "2      EH-010           EH 1999-10-26  ...       SDCDEH     SDCDEH           SDCDEH\n",
              "3      EH-010           EH 2000-03-21  ...       SDCDEH     SDCDEH           SDCDEH\n",
              "4      EH-010           EH 2000-05-24  ...       SDCDEH     SDCDEH           SDCDEH\n",
              "\n",
              "[5 rows x 35 columns]"
            ]
          },
          "metadata": {
            "tags": []
          },
          "execution_count": 6
        }
      ]
    },
    {
      "cell_type": "code",
      "metadata": {
        "id": "NRuIWwE4zXDZ",
        "colab_type": "code",
        "colab": {
          "base_uri": "https://localhost:8080/",
          "height": 68
        },
        "outputId": "72cc2bcb-6b88-429f-c2d5-82a550e37707"
      },
      "source": [
        "beachwatch.lresult_gt_lmedian.value_counts(dropna=False)"
      ],
      "execution_count": 7,
      "outputs": [
        {
          "output_type": "execute_result",
          "data": {
            "text/plain": [
              "0.0    136183\n",
              "1.0     66074\n",
              "Name: lresult_gt_lmedian, dtype: int64"
            ]
          },
          "metadata": {
            "tags": []
          },
          "execution_count": 7
        }
      ]
    },
    {
      "cell_type": "code",
      "metadata": {
        "id": "EwPbUO4RzvNy",
        "colab_type": "code",
        "colab": {
          "base_uri": "https://localhost:8080/",
          "height": 34
        },
        "outputId": "bcfd832a-2832-4031-c14a-acbe31e906aa"
      },
      "source": [
        "# Proportion of gt_mean and mt_median that are different. \n",
        "len(beachwatch[ beachwatch.lresult_gt_lmedian.notnull() & beachwatch.lresult_gt_lmedian.notnull() &  \n",
        "        (beachwatch.lresult_gt_lmedian != beachwatch.lresult_gt_lmean)])  / len(beachwatch)"
      ],
      "execution_count": 8,
      "outputs": [
        {
          "output_type": "execute_result",
          "data": {
            "text/plain": [
              "0.043489224105964196"
            ]
          },
          "metadata": {
            "tags": []
          },
          "execution_count": 8
        }
      ]
    },
    {
      "cell_type": "code",
      "metadata": {
        "id": "WL8BTbRuzwtH",
        "colab_type": "code",
        "colab": {}
      },
      "source": [
        "#Merge in environmental data"
      ],
      "execution_count": 0,
      "outputs": []
    },
    {
      "cell_type": "code",
      "metadata": {
        "id": "HUCVYmxxzy8Q",
        "colab_type": "code",
        "colab": {}
      },
      "source": [
        "env_pkg =  mp.open_package('http://library.metatab.org/sandiegodata.org-water_quality-4.zip')"
      ],
      "execution_count": 0,
      "outputs": []
    },
    {
      "cell_type": "code",
      "metadata": {
        "id": "djZxdNGJzy-7",
        "colab_type": "code",
        "colab": {
          "base_uri": "https://localhost:8080/",
          "height": 340
        },
        "outputId": "e6f56dac-4219-4330-a9b3-50da3d302f31"
      },
      "source": [
        "trr = env_pkg.resource('tides_river_rain').read_csv(parse_dates=True).set_index('date')\n",
        "trr.head()"
      ],
      "execution_count": 10,
      "outputs": [
        {
          "output_type": "execute_result",
          "data": {
            "text/html": [
              "<div>\n",
              "<style scoped>\n",
              "    .dataframe tbody tr th:only-of-type {\n",
              "        vertical-align: middle;\n",
              "    }\n",
              "\n",
              "    .dataframe tbody tr th {\n",
              "        vertical-align: top;\n",
              "    }\n",
              "\n",
              "    .dataframe thead th {\n",
              "        text-align: right;\n",
              "    }\n",
              "</style>\n",
              "<table border=\"1\" class=\"dataframe\">\n",
              "  <thead>\n",
              "    <tr style=\"text-align: right;\">\n",
              "      <th></th>\n",
              "      <th>discharge_rate</th>\n",
              "      <th>recent_total_discharge</th>\n",
              "      <th>recent_max_discharge</th>\n",
              "      <th>dailyprecip</th>\n",
              "      <th>recent_precip</th>\n",
              "      <th>wl_max</th>\n",
              "      <th>wl_min</th>\n",
              "    </tr>\n",
              "    <tr>\n",
              "      <th>date</th>\n",
              "      <th></th>\n",
              "      <th></th>\n",
              "      <th></th>\n",
              "      <th></th>\n",
              "      <th></th>\n",
              "      <th></th>\n",
              "      <th></th>\n",
              "    </tr>\n",
              "  </thead>\n",
              "  <tbody>\n",
              "    <tr>\n",
              "      <th>1988-01-01</th>\n",
              "      <td>22.0</td>\n",
              "      <td>22.0</td>\n",
              "      <td>22.0</td>\n",
              "      <td>NaN</td>\n",
              "      <td>NaN</td>\n",
              "      <td>NaN</td>\n",
              "      <td>NaN</td>\n",
              "    </tr>\n",
              "    <tr>\n",
              "      <th>1988-01-02</th>\n",
              "      <td>20.0</td>\n",
              "      <td>42.0</td>\n",
              "      <td>42.0</td>\n",
              "      <td>NaN</td>\n",
              "      <td>NaN</td>\n",
              "      <td>NaN</td>\n",
              "      <td>NaN</td>\n",
              "    </tr>\n",
              "    <tr>\n",
              "      <th>1988-01-03</th>\n",
              "      <td>18.0</td>\n",
              "      <td>60.0</td>\n",
              "      <td>60.0</td>\n",
              "      <td>NaN</td>\n",
              "      <td>NaN</td>\n",
              "      <td>NaN</td>\n",
              "      <td>NaN</td>\n",
              "    </tr>\n",
              "    <tr>\n",
              "      <th>1988-01-04</th>\n",
              "      <td>18.0</td>\n",
              "      <td>56.0</td>\n",
              "      <td>60.0</td>\n",
              "      <td>NaN</td>\n",
              "      <td>NaN</td>\n",
              "      <td>NaN</td>\n",
              "      <td>NaN</td>\n",
              "    </tr>\n",
              "    <tr>\n",
              "      <th>1988-01-05</th>\n",
              "      <td>21.0</td>\n",
              "      <td>57.0</td>\n",
              "      <td>60.0</td>\n",
              "      <td>NaN</td>\n",
              "      <td>NaN</td>\n",
              "      <td>NaN</td>\n",
              "      <td>NaN</td>\n",
              "    </tr>\n",
              "  </tbody>\n",
              "</table>\n",
              "</div>"
            ],
            "text/plain": [
              "            discharge_rate  recent_total_discharge  ...  wl_max  wl_min\n",
              "date                                                ...                \n",
              "1988-01-01            22.0                    22.0  ...     NaN     NaN\n",
              "1988-01-02            20.0                    42.0  ...     NaN     NaN\n",
              "1988-01-03            18.0                    60.0  ...     NaN     NaN\n",
              "1988-01-04            18.0                    56.0  ...     NaN     NaN\n",
              "1988-01-05            21.0                    57.0  ...     NaN     NaN\n",
              "\n",
              "[5 rows x 7 columns]"
            ]
          },
          "metadata": {
            "tags": []
          },
          "execution_count": 10
        }
      ]
    },
    {
      "cell_type": "code",
      "metadata": {
        "id": "OLMLw2CWzzDN",
        "colab_type": "code",
        "colab": {
          "base_uri": "https://localhost:8080/",
          "height": 313
        },
        "outputId": "bff7658f-56f7-4882-d14a-bbf8b433a544"
      },
      "source": [
        "trr.loc['2007':'2008'].recent_precip.plot()"
      ],
      "execution_count": 11,
      "outputs": [
        {
          "output_type": "execute_result",
          "data": {
            "text/plain": [
              "<matplotlib.axes._subplots.AxesSubplot at 0x7f118fef7208>"
            ]
          },
          "metadata": {
            "tags": []
          },
          "execution_count": 11
        },
        {
          "output_type": "display_data",
          "data": {
            "image/png": "[encoded data removed]",
            "text/plain": [
              "<Figure size 432x288 with 1 Axes>"
            ]
          },
          "metadata": {
            "tags": []
          }
        }
      ]
    },
    {
      "cell_type": "code",
      "metadata": {
        "id": "fwgD2k4hzzFN",
        "colab_type": "code",
        "colab": {
          "base_uri": "https://localhost:8080/",
          "height": 302
        },
        "outputId": "13993915-12b8-4f63-a4ed-0485d2322de8"
      },
      "source": [
        "trr.groupby(by=[trr.index.month, trr.index.year]).sum().dailyprecip.plot()"
      ],
      "execution_count": 12,
      "outputs": [
        {
          "output_type": "execute_result",
          "data": {
            "text/plain": [
              "<matplotlib.axes._subplots.AxesSubplot at 0x7f119056cda0>"
            ]
          },
          "metadata": {
            "tags": []
          },
          "execution_count": 12
        },
        {
          "output_type": "display_data",
          "data": {
            "image/png": "[encoded data removed]",
            "text/plain": [
              "<Figure size 432x288 with 1 Axes>"
            ]
          },
          "metadata": {
            "tags": []
          }
        }
      ]
    },
    {
      "cell_type": "code",
      "metadata": {
        "id": "1ZpWakGAzzB2",
        "colab_type": "code",
        "colab": {
          "base_uri": "https://localhost:8080/",
          "height": 309
        },
        "outputId": "ce08f9d6-3b02-45a7-db40-742a1e49b96a"
      },
      "source": [
        "bw_env = beachwatch.set_index('sampledate').join(trr)\n",
        "bw_env['high_flow'] =  (bw_env.recent_total_discharge > bw_env.recent_total_discharge.median()).astype(int)\n",
        "bw_env['ldischarge_rate'] = np.log(bw_env.discharge_rate)\n",
        "bw_env.head()"
      ],
      "execution_count": 13,
      "outputs": [
        {
          "output_type": "execute_result",
          "data": {
            "text/html": [
              "<div>\n",
              "<style scoped>\n",
              "    .dataframe tbody tr th:only-of-type {\n",
              "        vertical-align: middle;\n",
              "    }\n",
              "\n",
              "    .dataframe tbody tr th {\n",
              "        vertical-align: top;\n",
              "    }\n",
              "\n",
              "    .dataframe thead th {\n",
              "        text-align: right;\n",
              "    }\n",
              "</style>\n",
              "<table border=\"1\" class=\"dataframe\">\n",
              "  <thead>\n",
              "    <tr style=\"text-align: right;\">\n",
              "      <th></th>\n",
              "      <th>stationcode</th>\n",
              "      <th>stationgroup</th>\n",
              "      <th>collectiontime</th>\n",
              "      <th>measure_code</th>\n",
              "      <th>analyte</th>\n",
              "      <th>methodname</th>\n",
              "      <th>unit</th>\n",
              "      <th>result</th>\n",
              "      <th>result_group_count</th>\n",
              "      <th>result_group_std</th>\n",
              "      <th>result_group_mean</th>\n",
              "      <th>result_group_25pctl</th>\n",
              "      <th>result_group_median</th>\n",
              "      <th>result_group_75pctl</th>\n",
              "      <th>result_gt_median</th>\n",
              "      <th>result_gt_mean</th>\n",
              "      <th>result_lte_25pctl</th>\n",
              "      <th>result_gte_75pctl</th>\n",
              "      <th>lresult</th>\n",
              "      <th>lresult_group_std</th>\n",
              "      <th>lresult_group_mean</th>\n",
              "      <th>lresult_group_25pctl</th>\n",
              "      <th>lresult_group_median</th>\n",
              "      <th>lresult_group_75pctl</th>\n",
              "      <th>lresult_gt_lmedian</th>\n",
              "      <th>lresult_gt_lmean</th>\n",
              "      <th>lresult_lte_25pctl</th>\n",
              "      <th>lresult_gte_75pctl</th>\n",
              "      <th>labbatch</th>\n",
              "      <th>resultqualcode</th>\n",
              "      <th>qacode</th>\n",
              "      <th>sampleagency</th>\n",
              "      <th>labagency</th>\n",
              "      <th>submittingagency</th>\n",
              "      <th>discharge_rate</th>\n",
              "      <th>recent_total_discharge</th>\n",
              "      <th>recent_max_discharge</th>\n",
              "      <th>dailyprecip</th>\n",
              "      <th>recent_precip</th>\n",
              "      <th>wl_max</th>\n",
              "      <th>wl_min</th>\n",
              "      <th>high_flow</th>\n",
              "      <th>ldischarge_rate</th>\n",
              "    </tr>\n",
              "  </thead>\n",
              "  <tbody>\n",
              "    <tr>\n",
              "      <th>1998-07-21</th>\n",
              "      <td>SE-010</td>\n",
              "      <td>SE</td>\n",
              "      <td>2020-02-01</td>\n",
              "      <td>0</td>\n",
              "      <td>Coliform, Fecal</td>\n",
              "      <td>MTF</td>\n",
              "      <td>MPN/100 mL</td>\n",
              "      <td>4.0</td>\n",
              "      <td>527</td>\n",
              "      <td>225.561709</td>\n",
              "      <td>51.220114</td>\n",
              "      <td>2.0</td>\n",
              "      <td>4.0</td>\n",
              "      <td>20.0</td>\n",
              "      <td>0.0</td>\n",
              "      <td>0.0</td>\n",
              "      <td>0.0</td>\n",
              "      <td>0.0</td>\n",
              "      <td>1.386294</td>\n",
              "      <td>1.518733</td>\n",
              "      <td>1.973126</td>\n",
              "      <td>0.693147</td>\n",
              "      <td>1.386294</td>\n",
              "      <td>2.995732</td>\n",
              "      <td>0.0</td>\n",
              "      <td>0.0</td>\n",
              "      <td>0.0</td>\n",
              "      <td>0.0</td>\n",
              "      <td>SE-7/21/1998</td>\n",
              "      <td>=</td>\n",
              "      <td>NR</td>\n",
              "      <td>SEJPA</td>\n",
              "      <td>SEJPA</td>\n",
              "      <td>SEJPA</td>\n",
              "      <td>8.8</td>\n",
              "      <td>27.0</td>\n",
              "      <td>27.4</td>\n",
              "      <td>NaN</td>\n",
              "      <td>NaN</td>\n",
              "      <td>NaN</td>\n",
              "      <td>NaN</td>\n",
              "      <td>1</td>\n",
              "      <td>2.174752</td>\n",
              "    </tr>\n",
              "    <tr>\n",
              "      <th>1998-07-21</th>\n",
              "      <td>SE-010</td>\n",
              "      <td>SE</td>\n",
              "      <td>2020-02-01</td>\n",
              "      <td>9</td>\n",
              "      <td>Coliform, Total</td>\n",
              "      <td>MTF</td>\n",
              "      <td>MPN/100 mL</td>\n",
              "      <td>4.0</td>\n",
              "      <td>530</td>\n",
              "      <td>309.086717</td>\n",
              "      <td>84.126415</td>\n",
              "      <td>2.0</td>\n",
              "      <td>8.0</td>\n",
              "      <td>22.0</td>\n",
              "      <td>0.0</td>\n",
              "      <td>0.0</td>\n",
              "      <td>0.0</td>\n",
              "      <td>0.0</td>\n",
              "      <td>1.386294</td>\n",
              "      <td>1.720703</td>\n",
              "      <td>2.296871</td>\n",
              "      <td>0.693147</td>\n",
              "      <td>2.079442</td>\n",
              "      <td>3.091042</td>\n",
              "      <td>0.0</td>\n",
              "      <td>0.0</td>\n",
              "      <td>0.0</td>\n",
              "      <td>0.0</td>\n",
              "      <td>SE-7/21/1998</td>\n",
              "      <td>=</td>\n",
              "      <td>NR</td>\n",
              "      <td>SEJPA</td>\n",
              "      <td>SEJPA</td>\n",
              "      <td>SEJPA</td>\n",
              "      <td>8.8</td>\n",
              "      <td>27.0</td>\n",
              "      <td>27.4</td>\n",
              "      <td>NaN</td>\n",
              "      <td>NaN</td>\n",
              "      <td>NaN</td>\n",
              "      <td>NaN</td>\n",
              "      <td>1</td>\n",
              "      <td>2.174752</td>\n",
              "    </tr>\n",
              "    <tr>\n",
              "      <th>1998-07-21</th>\n",
              "      <td>SE-010</td>\n",
              "      <td>SE</td>\n",
              "      <td>2020-02-01</td>\n",
              "      <td>26</td>\n",
              "      <td>Enterococcus</td>\n",
              "      <td>MTF</td>\n",
              "      <td>MPN/100 mL</td>\n",
              "      <td>2.0</td>\n",
              "      <td>488</td>\n",
              "      <td>148.631518</td>\n",
              "      <td>24.676230</td>\n",
              "      <td>2.0</td>\n",
              "      <td>2.0</td>\n",
              "      <td>4.0</td>\n",
              "      <td>0.0</td>\n",
              "      <td>0.0</td>\n",
              "      <td>0.0</td>\n",
              "      <td>0.0</td>\n",
              "      <td>0.693147</td>\n",
              "      <td>1.160104</td>\n",
              "      <td>1.216686</td>\n",
              "      <td>0.693147</td>\n",
              "      <td>0.693147</td>\n",
              "      <td>1.386294</td>\n",
              "      <td>0.0</td>\n",
              "      <td>0.0</td>\n",
              "      <td>0.0</td>\n",
              "      <td>0.0</td>\n",
              "      <td>SE-7/21/1998</td>\n",
              "      <td>&lt;</td>\n",
              "      <td>NR</td>\n",
              "      <td>SEJPA</td>\n",
              "      <td>SEJPA</td>\n",
              "      <td>SEJPA</td>\n",
              "      <td>8.8</td>\n",
              "      <td>27.0</td>\n",
              "      <td>27.4</td>\n",
              "      <td>NaN</td>\n",
              "      <td>NaN</td>\n",
              "      <td>NaN</td>\n",
              "      <td>NaN</td>\n",
              "      <td>1</td>\n",
              "      <td>2.174752</td>\n",
              "    </tr>\n",
              "    <tr>\n",
              "      <th>1998-07-21</th>\n",
              "      <td>SE-020</td>\n",
              "      <td>SE</td>\n",
              "      <td>2020-02-01</td>\n",
              "      <td>0</td>\n",
              "      <td>Coliform, Fecal</td>\n",
              "      <td>MTF</td>\n",
              "      <td>MPN/100 mL</td>\n",
              "      <td>23.0</td>\n",
              "      <td>477</td>\n",
              "      <td>128.262880</td>\n",
              "      <td>20.035639</td>\n",
              "      <td>2.0</td>\n",
              "      <td>2.0</td>\n",
              "      <td>7.0</td>\n",
              "      <td>1.0</td>\n",
              "      <td>1.0</td>\n",
              "      <td>0.0</td>\n",
              "      <td>1.0</td>\n",
              "      <td>3.135494</td>\n",
              "      <td>1.184474</td>\n",
              "      <td>1.444595</td>\n",
              "      <td>0.693147</td>\n",
              "      <td>0.693147</td>\n",
              "      <td>1.945910</td>\n",
              "      <td>1.0</td>\n",
              "      <td>1.0</td>\n",
              "      <td>0.0</td>\n",
              "      <td>1.0</td>\n",
              "      <td>SE-7/21/1998</td>\n",
              "      <td>=</td>\n",
              "      <td>NR</td>\n",
              "      <td>SEJPA</td>\n",
              "      <td>SEJPA</td>\n",
              "      <td>SEJPA</td>\n",
              "      <td>8.8</td>\n",
              "      <td>27.0</td>\n",
              "      <td>27.4</td>\n",
              "      <td>NaN</td>\n",
              "      <td>NaN</td>\n",
              "      <td>NaN</td>\n",
              "      <td>NaN</td>\n",
              "      <td>1</td>\n",
              "      <td>2.174752</td>\n",
              "    </tr>\n",
              "    <tr>\n",
              "      <th>1998-07-21</th>\n",
              "      <td>SE-020</td>\n",
              "      <td>SE</td>\n",
              "      <td>2020-02-01</td>\n",
              "      <td>9</td>\n",
              "      <td>Coliform, Total</td>\n",
              "      <td>MTF</td>\n",
              "      <td>MPN/100 mL</td>\n",
              "      <td>23.0</td>\n",
              "      <td>477</td>\n",
              "      <td>263.711243</td>\n",
              "      <td>35.614256</td>\n",
              "      <td>2.0</td>\n",
              "      <td>4.0</td>\n",
              "      <td>11.0</td>\n",
              "      <td>1.0</td>\n",
              "      <td>0.0</td>\n",
              "      <td>0.0</td>\n",
              "      <td>1.0</td>\n",
              "      <td>3.135494</td>\n",
              "      <td>1.333927</td>\n",
              "      <td>1.685159</td>\n",
              "      <td>0.693147</td>\n",
              "      <td>1.386294</td>\n",
              "      <td>2.397895</td>\n",
              "      <td>1.0</td>\n",
              "      <td>1.0</td>\n",
              "      <td>0.0</td>\n",
              "      <td>1.0</td>\n",
              "      <td>SE-7/21/1998</td>\n",
              "      <td>=</td>\n",
              "      <td>NR</td>\n",
              "      <td>SEJPA</td>\n",
              "      <td>SEJPA</td>\n",
              "      <td>SEJPA</td>\n",
              "      <td>8.8</td>\n",
              "      <td>27.0</td>\n",
              "      <td>27.4</td>\n",
              "      <td>NaN</td>\n",
              "      <td>NaN</td>\n",
              "      <td>NaN</td>\n",
              "      <td>NaN</td>\n",
              "      <td>1</td>\n",
              "      <td>2.174752</td>\n",
              "    </tr>\n",
              "  </tbody>\n",
              "</table>\n",
              "</div>"
            ],
            "text/plain": [
              "           stationcode stationgroup  ... high_flow  ldischarge_rate\n",
              "1998-07-21      SE-010           SE  ...         1         2.174752\n",
              "1998-07-21      SE-010           SE  ...         1         2.174752\n",
              "1998-07-21      SE-010           SE  ...         1         2.174752\n",
              "1998-07-21      SE-020           SE  ...         1         2.174752\n",
              "1998-07-21      SE-020           SE  ...         1         2.174752\n",
              "\n",
              "[5 rows x 43 columns]"
            ]
          },
          "metadata": {
            "tags": []
          },
          "execution_count": 13
        }
      ]
    },
    {
      "cell_type": "code",
      "metadata": {
        "id": "Gc6EPUCGz6Xl",
        "colab_type": "code",
        "colab": {
          "base_uri": "https://localhost:8080/",
          "height": 1000
        },
        "outputId": "39a4d1f4-8419-42bf-96b8-ff4b5201ad25"
      },
      "source": [
        "fig, ax = plt.subplots(figsize=(15,.5*len(bw_env.columns)))\n",
        "sns.heatmap(bw_env.sample(10000).isnull().T,cbar=False,xticklabels=False,cmap = 'viridis', ax=ax );"
      ],
      "execution_count": 14,
      "outputs": [
        {
          "output_type": "display_data",
          "data": {
            "image/png": "[encoded data removed]",
            "text/plain": [
              "<Figure size 1080x1548 with 1 Axes>"
            ]
          },
          "metadata": {
            "tags": []
          }
        }
      ]
    },
    {
      "cell_type": "code",
      "metadata": {
        "id": "n8-J6TpSz6cf",
        "colab_type": "code",
        "colab": {
          "base_uri": "https://localhost:8080/",
          "height": 34
        },
        "outputId": "cc3498c9-6592-4e28-dac2-938a0198b314"
      },
      "source": [
        "sum(bw_env.recent_precip > 0.0)"
      ],
      "execution_count": 15,
      "outputs": [
        {
          "output_type": "execute_result",
          "data": {
            "text/plain": [
              "8440"
            ]
          },
          "metadata": {
            "tags": []
          },
          "execution_count": 15
        }
      ]
    },
    {
      "cell_type": "code",
      "metadata": {
        "id": "viuw2hd-z92t",
        "colab_type": "code",
        "colab": {
          "base_uri": "https://localhost:8080/",
          "height": 111
        },
        "outputId": "997bebac-6573-4adc-ec3f-62aa1f70172e"
      },
      "source": [
        "bw_env.groupby('lresult_gt_lmean').mean().discharge_rate.reset_index()"
      ],
      "execution_count": 16,
      "outputs": [
        {
          "output_type": "execute_result",
          "data": {
            "text/html": [
              "<div>\n",
              "<style scoped>\n",
              "    .dataframe tbody tr th:only-of-type {\n",
              "        vertical-align: middle;\n",
              "    }\n",
              "\n",
              "    .dataframe tbody tr th {\n",
              "        vertical-align: top;\n",
              "    }\n",
              "\n",
              "    .dataframe thead th {\n",
              "        text-align: right;\n",
              "    }\n",
              "</style>\n",
              "<table border=\"1\" class=\"dataframe\">\n",
              "  <thead>\n",
              "    <tr style=\"text-align: right;\">\n",
              "      <th></th>\n",
              "      <th>lresult_gt_lmean</th>\n",
              "      <th>discharge_rate</th>\n",
              "    </tr>\n",
              "  </thead>\n",
              "  <tbody>\n",
              "    <tr>\n",
              "      <th>0</th>\n",
              "      <td>0.0</td>\n",
              "      <td>10.482232</td>\n",
              "    </tr>\n",
              "    <tr>\n",
              "      <th>1</th>\n",
              "      <td>1.0</td>\n",
              "      <td>47.200024</td>\n",
              "    </tr>\n",
              "  </tbody>\n",
              "</table>\n",
              "</div>"
            ],
            "text/plain": [
              "   lresult_gt_lmean  discharge_rate\n",
              "0               0.0       10.482232\n",
              "1               1.0       47.200024"
            ]
          },
          "metadata": {
            "tags": []
          },
          "execution_count": 16
        }
      ]
    },
    {
      "cell_type": "code",
      "metadata": {
        "id": "TkJCUyyzz95R",
        "colab_type": "code",
        "colab": {
          "base_uri": "https://localhost:8080/",
          "height": 285
        },
        "outputId": "1eb44c33-c499-4936-a0d9-8980d601e4b5"
      },
      "source": [
        "ax = sns.violinplot(x=bw_env.lresult_gt_lmedian, y=bw_env.ldischarge_rate)"
      ],
      "execution_count": 17,
      "outputs": [
        {
          "output_type": "display_data",
          "data": {
            "image/png": "[encoded data removed]",
            "text/plain": [
              "<Figure size 432x288 with 1 Axes>"
            ]
          },
          "metadata": {
            "tags": []
          }
        }
      ]
    },
    {
      "cell_type": "code",
      "metadata": {
        "id": "5iBmoS9lz6a0",
        "colab_type": "code",
        "colab": {
          "base_uri": "https://localhost:8080/",
          "height": 142
        },
        "outputId": "fecf7691-5fb7-4866-a375-ab3f43b5566e"
      },
      "source": [
        "bw_env.groupby('lresult_gt_lmean').discharge_rate.agg(['mean','std','median'])"
      ],
      "execution_count": 18,
      "outputs": [
        {
          "output_type": "execute_result",
          "data": {
            "text/html": [
              "<div>\n",
              "<style scoped>\n",
              "    .dataframe tbody tr th:only-of-type {\n",
              "        vertical-align: middle;\n",
              "    }\n",
              "\n",
              "    .dataframe tbody tr th {\n",
              "        vertical-align: top;\n",
              "    }\n",
              "\n",
              "    .dataframe thead th {\n",
              "        text-align: right;\n",
              "    }\n",
              "</style>\n",
              "<table border=\"1\" class=\"dataframe\">\n",
              "  <thead>\n",
              "    <tr style=\"text-align: right;\">\n",
              "      <th></th>\n",
              "      <th>mean</th>\n",
              "      <th>std</th>\n",
              "      <th>median</th>\n",
              "    </tr>\n",
              "    <tr>\n",
              "      <th>lresult_gt_lmean</th>\n",
              "      <th></th>\n",
              "      <th></th>\n",
              "      <th></th>\n",
              "    </tr>\n",
              "  </thead>\n",
              "  <tbody>\n",
              "    <tr>\n",
              "      <th>0.0</th>\n",
              "      <td>10.482232</td>\n",
              "      <td>36.187658</td>\n",
              "      <td>3.15</td>\n",
              "    </tr>\n",
              "    <tr>\n",
              "      <th>1.0</th>\n",
              "      <td>47.200024</td>\n",
              "      <td>195.216645</td>\n",
              "      <td>5.70</td>\n",
              "    </tr>\n",
              "  </tbody>\n",
              "</table>\n",
              "</div>"
            ],
            "text/plain": [
              "                       mean         std  median\n",
              "lresult_gt_lmean                               \n",
              "0.0               10.482232   36.187658    3.15\n",
              "1.0               47.200024  195.216645    5.70"
            ]
          },
          "metadata": {
            "tags": []
          },
          "execution_count": 18
        }
      ]
    },
    {
      "cell_type": "code",
      "metadata": {
        "id": "7oid_WUv0DUp",
        "colab_type": "code",
        "colab": {
          "base_uri": "https://localhost:8080/",
          "height": 85
        },
        "outputId": "c4f83e91-2a1b-405f-aaeb-b5c650d2be92"
      },
      "source": [
        "bw_env.groupby('lresult_gt_lmean').mean().recent_precip"
      ],
      "execution_count": 19,
      "outputs": [
        {
          "output_type": "execute_result",
          "data": {
            "text/plain": [
              "lresult_gt_lmean\n",
              "0.0    0.024758\n",
              "1.0    0.129421\n",
              "Name: recent_precip, dtype: float64"
            ]
          },
          "metadata": {
            "tags": []
          },
          "execution_count": 19
        }
      ]
    },
    {
      "cell_type": "code",
      "metadata": {
        "id": "dnvEvA590FAD",
        "colab_type": "code",
        "colab": {
          "base_uri": "https://localhost:8080/",
          "height": 309
        },
        "outputId": "1c1e7f35-4f18-4b7e-d848-c4be268920d4"
      },
      "source": [
        "pd.crosstab(bw_env.lresult_gt_lmedian, bw_env.recent_precip > 0.01 ).plot(kind='bar')"
      ],
      "execution_count": 20,
      "outputs": [
        {
          "output_type": "execute_result",
          "data": {
            "text/plain": [
              "<matplotlib.axes._subplots.AxesSubplot at 0x7f118be63e48>"
            ]
          },
          "metadata": {
            "tags": []
          },
          "execution_count": 20
        },
        {
          "output_type": "display_data",
          "data": {
            "image/png": "[encoded data removed]",
            "text/plain": [
              "<Figure size 432x288 with 1 Axes>"
            ]
          },
          "metadata": {
            "tags": []
          }
        }
      ]
    },
    {
      "cell_type": "code",
      "metadata": {
        "id": "UUS8XHH_0DZb",
        "colab_type": "code",
        "colab": {
          "base_uri": "https://localhost:8080/",
          "height": 374
        },
        "outputId": "18a0078e-07ba-427c-d87f-9e5f6db41b5e"
      },
      "source": [
        "def logit(y,X):\n",
        "    import statsmodels.api as sm\n",
        "\n",
        "    X_ = pd.DataFrame()\n",
        "   \n",
        "    X_['X'] = X\n",
        "    X_['const'] = 1\n",
        "\n",
        "    logit_model=sm.Logit(y,X_)\n",
        "    result=logit_model.fit()\n",
        "    print(result.summary())\n",
        "\n",
        "    # Odds ratio and conf interval\n",
        "    params = result.params\n",
        "    conf = result.conf_int()\n",
        "    conf['OR'] = params\n",
        "    conf.columns = ['2.5%', '97.5%', 'OR']\n",
        "    print(np.exp(conf))\n",
        "    \n",
        "logit(\n",
        "    y = bw_env.lresult_gt_lmedian.astype(int), \n",
        "    X = (bw_env.recent_precip.fillna(0) > 0).astype(int)\n",
        ")"
      ],
      "execution_count": 21,
      "outputs": [
        {
          "output_type": "stream",
          "text": [
            "Optimization terminated successfully.\n",
            "         Current function value: 0.629777\n",
            "         Iterations 4\n",
            "                           Logit Regression Results                           \n",
            "==============================================================================\n",
            "Dep. Variable:     lresult_gt_lmedian   No. Observations:               202257\n",
            "Model:                          Logit   Df Residuals:                   202255\n",
            "Method:                           MLE   Df Model:                            1\n",
            "Date:                Sat, 01 Feb 2020   Pseudo R-squ.:                0.003209\n",
            "Time:                        08:14:27   Log-Likelihood:            -1.2738e+05\n",
            "converged:                       True   LL-Null:                   -1.2779e+05\n",
            "Covariance Type:            nonrobust   LLR p-value:                2.207e-180\n",
            "==============================================================================\n",
            "                 coef    std err          z      P>|z|      [0.025      0.975]\n",
            "------------------------------------------------------------------------------\n",
            "X              0.6477      0.022     28.995      0.000       0.604       0.691\n",
            "const         -0.7525      0.005   -154.573      0.000      -0.762      -0.743\n",
            "==============================================================================\n",
            "           2.5%     97.5%        OR\n",
            "X      1.829216  1.996601  1.911077\n",
            "const  0.466712  0.475704  0.471186\n"
          ],
          "name": "stdout"
        }
      ]
    },
    {
      "cell_type": "code",
      "metadata": {
        "id": "lSahXrgg0Db8",
        "colab_type": "code",
        "colab": {}
      },
      "source": [
        "#That's an odds ratio of nearly 1:2, \n",
        "#so days with non-zero recent precipitation \n",
        "#are about twice as likely to have a bacteria county above the median"
      ],
      "execution_count": 0,
      "outputs": []
    },
    {
      "cell_type": "code",
      "metadata": {
        "id": "-mjehfVk0Sl1",
        "colab_type": "code",
        "colab": {
          "base_uri": "https://localhost:8080/",
          "height": 374
        },
        "outputId": "e0717c7c-6668-4525-9fd6-d891c05a3686"
      },
      "source": [
        "logit(\n",
        "    y = bw_env.lresult_gt_lmedian.astype(int), \n",
        "    X = bw_env.recent_precip.fillna(0)\n",
        ")"
      ],
      "execution_count": 22,
      "outputs": [
        {
          "output_type": "stream",
          "text": [
            "Optimization terminated successfully.\n",
            "         Current function value: 0.628095\n",
            "         Iterations 6\n",
            "                           Logit Regression Results                           \n",
            "==============================================================================\n",
            "Dep. Variable:     lresult_gt_lmedian   No. Observations:               202257\n",
            "Model:                          Logit   Df Residuals:                   202255\n",
            "Method:                           MLE   Df Model:                            1\n",
            "Date:                Sat, 01 Feb 2020   Pseudo R-squ.:                0.005872\n",
            "Time:                        08:15:26   Log-Likelihood:            -1.2704e+05\n",
            "converged:                       True   LL-Null:                   -1.2779e+05\n",
            "Covariance Type:            nonrobust   LLR p-value:                     0.000\n",
            "==============================================================================\n",
            "                 coef    std err          z      P>|z|      [0.025      0.975]\n",
            "------------------------------------------------------------------------------\n",
            "X              1.7654      0.054     32.978      0.000       1.660       1.870\n",
            "const         -0.7477      0.005   -155.751      0.000      -0.757      -0.738\n",
            "==============================================================================\n",
            "           2.5%     97.5%        OR\n",
            "X      5.261859  6.490440  5.843953\n",
            "const  0.469015  0.477925  0.473449\n"
          ],
          "name": "stdout"
        }
      ]
    },
    {
      "cell_type": "code",
      "metadata": {
        "id": "1V0cyRP80Soc",
        "colab_type": "code",
        "colab": {}
      },
      "source": [
        "#this means that a 1 unit ( 1 inch ) increase \n",
        "#in the recent precipitation increases the odds of above \n",
        "#median bacteria counts by a factor of 6"
      ],
      "execution_count": 0,
      "outputs": []
    },
    {
      "cell_type": "code",
      "metadata": {
        "id": "WubOook30DXb",
        "colab_type": "code",
        "colab": {
          "base_uri": "https://localhost:8080/",
          "height": 374
        },
        "outputId": "6a5eb532-c2f2-4d8b-b514-3cca64bb3b4c"
      },
      "source": [
        "logit(\n",
        "    y = bw_env.lresult_gt_lmedian.astype(int), \n",
        "    X = bw_env.recent_precip.fillna(0)\n",
        ")"
      ],
      "execution_count": 23,
      "outputs": [
        {
          "output_type": "stream",
          "text": [
            "Optimization terminated successfully.\n",
            "         Current function value: 0.628095\n",
            "         Iterations 6\n",
            "                           Logit Regression Results                           \n",
            "==============================================================================\n",
            "Dep. Variable:     lresult_gt_lmedian   No. Observations:               202257\n",
            "Model:                          Logit   Df Residuals:                   202255\n",
            "Method:                           MLE   Df Model:                            1\n",
            "Date:                Sat, 01 Feb 2020   Pseudo R-squ.:                0.005872\n",
            "Time:                        08:15:53   Log-Likelihood:            -1.2704e+05\n",
            "converged:                       True   LL-Null:                   -1.2779e+05\n",
            "Covariance Type:            nonrobust   LLR p-value:                     0.000\n",
            "==============================================================================\n",
            "                 coef    std err          z      P>|z|      [0.025      0.975]\n",
            "------------------------------------------------------------------------------\n",
            "X              1.7654      0.054     32.978      0.000       1.660       1.870\n",
            "const         -0.7477      0.005   -155.751      0.000      -0.757      -0.738\n",
            "==============================================================================\n",
            "           2.5%     97.5%        OR\n",
            "X      5.261859  6.490440  5.843953\n",
            "const  0.469015  0.477925  0.473449\n"
          ],
          "name": "stdout"
        }
      ]
    },
    {
      "cell_type": "code",
      "metadata": {
        "id": "wEfPYrmO0h-C",
        "colab_type": "code",
        "colab": {
          "base_uri": "https://localhost:8080/",
          "height": 374
        },
        "outputId": "6e89195b-de5d-44fc-f580-b6cb4c00ea47"
      },
      "source": [
        "_1 = pd.DataFrame()\n",
        "_1['y'] = bw_env.lresult_gt_lmedian.astype(int)\n",
        "_1['X'] = bw_env.recent_precip.apply(lambda x: 1 if x > 1.5 else 0 if x < .5 else np.nan)\n",
        "_2 = _1.dropna()\n",
        "\n",
        "logit(\n",
        "    y = _2['y'],\n",
        "    X = _2['X']\n",
        ")"
      ],
      "execution_count": 24,
      "outputs": [
        {
          "output_type": "stream",
          "text": [
            "Optimization terminated successfully.\n",
            "         Current function value: 0.578986\n",
            "         Iterations 7\n",
            "                           Logit Regression Results                           \n",
            "==============================================================================\n",
            "Dep. Variable:                      y   No. Observations:                52202\n",
            "Model:                          Logit   Df Residuals:                    52200\n",
            "Method:                           MLE   Df Model:                            1\n",
            "Date:                Sat, 01 Feb 2020   Pseudo R-squ.:                0.009148\n",
            "Time:                        08:16:04   Log-Likelihood:                -30224.\n",
            "converged:                       True   LL-Null:                       -30503.\n",
            "Covariance Type:            nonrobust   LLR p-value:                2.171e-123\n",
            "==============================================================================\n",
            "                 coef    std err          z      P>|z|      [0.025      0.975]\n",
            "------------------------------------------------------------------------------\n",
            "X              3.5838      0.232     15.436      0.000       3.129       4.039\n",
            "const         -1.0074      0.010   -101.606      0.000      -1.027      -0.988\n",
            "==============================================================================\n",
            "            2.5%      97.5%         OR\n",
            "X      22.845707  56.760078  36.010055\n",
            "const   0.358148   0.372341   0.365176\n"
          ],
          "name": "stdout"
        }
      ]
    },
    {
      "cell_type": "code",
      "metadata": {
        "id": "_CbLOEUn0iVi",
        "colab_type": "code",
        "colab": {}
      },
      "source": [
        "#this means that a greater than median reading is 36 times \n",
        "#more likely with a recent rainfall of 1.5 inches or greater \n",
        "#than with .5 inch or less."
      ],
      "execution_count": 0,
      "outputs": []
    },
    {
      "cell_type": "code",
      "metadata": {
        "id": "iPjIaoNw0iYU",
        "colab_type": "code",
        "colab": {}
      },
      "source": [
        "#Rain Seasonality\n",
        "\n",
        "#Maybe there is a stonger correlation to precipitation \n",
        "#in the first rains of the season? The guess is that late in the season, \n",
        "#pollutants and nutrients have already been washed out by the early rains, \n",
        "#so there should be more pollution earlier in the season"
      ],
      "execution_count": 0,
      "outputs": []
    },
    {
      "cell_type": "code",
      "metadata": {
        "id": "tTZvpE1C0wDd",
        "colab_type": "code",
        "colab": {}
      },
      "source": [
        "# Compute the quartile of rainfall for each month\n",
        "\n",
        "_1 = pd.qcut(trr.groupby(trr.index.month).sum().dailyprecip, \n",
        "             q=[0, .3, .5, .75, 1.], # .3 not .25 to smooth out summer\n",
        "            labels=[1,2,3,4])\n",
        "\n",
        "dmap = {e['date']:e['dailyprecip'] for _,e in _1.to_frame().reset_index().iterrows()}\n",
        "\n",
        "#trr.apply( lambda row: dmap[row.index.month])\n",
        "bw_env['month'] = bw_env.index.month\n",
        "bw_env['precip_month_q'] = bw_env.month.apply(lambda v: dmap[v])"
      ],
      "execution_count": 0,
      "outputs": []
    },
    {
      "cell_type": "code",
      "metadata": {
        "id": "N2C6o-pC0wKb",
        "colab_type": "code",
        "colab": {
          "base_uri": "https://localhost:8080/",
          "height": 302
        },
        "outputId": "d11f0558-e0a6-49c1-aeff-3ce3d2048c75"
      },
      "source": [
        "trr.groupby(trr.index.month).sum().dailyprecip.plot()"
      ],
      "execution_count": 26,
      "outputs": [
        {
          "output_type": "execute_result",
          "data": {
            "text/plain": [
              "<matplotlib.axes._subplots.AxesSubplot at 0x7f118be717b8>"
            ]
          },
          "metadata": {
            "tags": []
          },
          "execution_count": 26
        },
        {
          "output_type": "display_data",
          "data": {
            "image/png": "[encoded data removed]",
            "text/plain": [
              "<Figure size 432x288 with 1 Axes>"
            ]
          },
          "metadata": {
            "tags": []
          }
        }
      ]
    },
    {
      "cell_type": "code",
      "metadata": {
        "id": "Wel8vxGO0wJD",
        "colab_type": "code",
        "colab": {
          "base_uri": "https://localhost:8080/",
          "height": 302
        },
        "outputId": "fc32a8e5-9fac-46e5-c9c3-7d5b19f4fa2e"
      },
      "source": [
        "bw_env.groupby(bw_env.month).lresult_gt_lmedian.sum().plot()"
      ],
      "execution_count": 27,
      "outputs": [
        {
          "output_type": "execute_result",
          "data": {
            "text/plain": [
              "<matplotlib.axes._subplots.AxesSubplot at 0x7f118be634a8>"
            ]
          },
          "metadata": {
            "tags": []
          },
          "execution_count": 27
        },
        {
          "output_type": "display_data",
          "data": {
            "image/png": "[encoded data removed]",
            "text/plain": [
              "<Figure size 432x288 with 1 Axes>"
            ]
          },
          "metadata": {
            "tags": []
          }
        }
      ]
    },
    {
      "cell_type": "code",
      "metadata": {
        "id": "6BVbSxNn0wG_",
        "colab_type": "code",
        "colab": {
          "base_uri": "https://localhost:8080/",
          "height": 119
        },
        "outputId": "fa1f8376-4018-4e1c-fcaa-6bc5a36a7a2f"
      },
      "source": [
        "bw_env.groupby(bw_env['precip_month_q']).lresult_gt_lmedian.sum()"
      ],
      "execution_count": 28,
      "outputs": [
        {
          "output_type": "execute_result",
          "data": {
            "text/plain": [
              "precip_month_q\n",
              "1    22320.0\n",
              "2    12355.0\n",
              "3    15986.0\n",
              "4    15413.0\n",
              "Name: lresult_gt_lmedian, dtype: float64"
            ]
          },
          "metadata": {
            "tags": []
          },
          "execution_count": 28
        }
      ]
    },
    {
      "cell_type": "code",
      "metadata": {
        "id": "h_0vnEHo03nK",
        "colab_type": "code",
        "colab": {
          "base_uri": "https://localhost:8080/",
          "height": 105
        },
        "outputId": "f3b9da2a-6e30-4e88-ffa9-ffb62c2cbd9f"
      },
      "source": [
        "bw_env.index.month.all"
      ],
      "execution_count": 29,
      "outputs": [
        {
          "output_type": "execute_result",
          "data": {
            "text/plain": [
              "<bound method Index._add_logical_methods.<locals>._make_logical_function.<locals>.logical_func of Int64Index([ 7,  7,  7,  7,  7,  7,  7,  7,  7,  7,\n",
              "            ...\n",
              "            12, 12, 12, 12, 12, 12, 12, 12, 12, 12],\n",
              "           dtype='int64', length=202257)>"
            ]
          },
          "metadata": {
            "tags": []
          },
          "execution_count": 29
        }
      ]
    },
    {
      "cell_type": "code",
      "metadata": {
        "id": "mt-zWvHZ05hW",
        "colab_type": "code",
        "colab": {}
      },
      "source": [
        ""
      ],
      "execution_count": 0,
      "outputs": []
    }
  ]
}